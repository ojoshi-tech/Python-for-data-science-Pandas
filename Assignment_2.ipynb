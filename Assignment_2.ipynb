{
 "cells": [
  {
   "cell_type": "code",
   "execution_count": 1,
   "metadata": {},
   "outputs": [
    {
     "name": "stdout",
     "output_type": "stream",
     "text": [
      "        birds  age  visits priority\n",
      "a      Cranes  3.5       2      yes\n",
      "b      Cranes  4.0       4      yes\n",
      "c     plovers  1.5       3       no\n",
      "d  spoonbills  NaN       4      yes\n",
      "e  spoonbills  6.0       3       no\n",
      "f      Cranes  3.0       4       no\n",
      "g     plovers  5.5       2       no\n",
      "h      Cranes  NaN       2      yes\n",
      "i  spoonbills  8.0       3       no\n",
      "j  spoonbills  4.0       2       no\n"
     ]
    }
   ],
   "source": [
    "import pandas as pd\n",
    "import numpy as np\n",
    "\n",
    "data = {'birds': ['Cranes', 'Cranes', 'plovers', 'spoonbills', 'spoonbills', 'Cranes', 'plovers', 'Cranes', 'spoonbills', 'spoonbills'], 'age': [3.5, 4, 1.5, np.nan, 6, 3, 5.5, np.nan, 8, 4], 'visits': [2, 4, 3, 4, 3, 4, 2, 2, 3, 2], 'priority': ['yes', 'yes', 'no', 'yes', 'no', 'no', 'no', 'yes', 'no', 'no']}\n",
    "\n",
    "labels = ['a', 'b', 'c', 'd', 'e', 'f', 'g', 'h', 'i', 'j']\n",
    "\n",
    "df = pd.DataFrame(data, index = [labels])\n",
    "\n",
    "print(df)"
   ]
  },
  {
   "cell_type": "code",
   "execution_count": 2,
   "metadata": {},
   "outputs": [
    {
     "name": "stdout",
     "output_type": "stream",
     "text": [
      "            0\n",
      "a      Cranes\n",
      "b      Cranes\n",
      "c     plovers\n",
      "d  spoonbills\n",
      "e  spoonbills\n",
      "f      Cranes\n",
      "g     plovers\n",
      "h      Cranes\n",
      "i  spoonbills\n",
      "j  spoonbills\n"
     ]
    }
   ],
   "source": [
    "birds_df = pd.DataFrame(data['birds'], index = [labels])\n",
    "print (birds_df)"
   ]
  },
  {
   "cell_type": "code",
   "execution_count": 3,
   "metadata": {},
   "outputs": [
    {
     "name": "stdout",
     "output_type": "stream",
     "text": [
      "                 0\n",
      "count           10\n",
      "unique           3\n",
      "top     spoonbills\n",
      "freq             4\n"
     ]
    }
   ],
   "source": [
    "print(birds_df.describe())"
   ]
  },
  {
   "cell_type": "code",
   "execution_count": 4,
   "metadata": {},
   "outputs": [
    {
     "name": "stdout",
     "output_type": "stream",
     "text": [
      "        0\n",
      "a  Cranes\n",
      "b  Cranes\n"
     ]
    }
   ],
   "source": [
    "print(birds_df[:2])"
   ]
  },
  {
   "cell_type": "code",
   "execution_count": 5,
   "metadata": {},
   "outputs": [
    {
     "data": {
      "text/html": [
       "<div>\n",
       "<style scoped>\n",
       "    .dataframe tbody tr th:only-of-type {\n",
       "        vertical-align: middle;\n",
       "    }\n",
       "\n",
       "    .dataframe tbody tr th {\n",
       "        vertical-align: top;\n",
       "    }\n",
       "\n",
       "    .dataframe thead th {\n",
       "        text-align: right;\n",
       "    }\n",
       "</style>\n",
       "<table border=\"1\" class=\"dataframe\">\n",
       "  <thead>\n",
       "    <tr style=\"text-align: right;\">\n",
       "      <th></th>\n",
       "      <th>birds</th>\n",
       "      <th>age</th>\n",
       "    </tr>\n",
       "  </thead>\n",
       "  <tbody>\n",
       "    <tr>\n",
       "      <th>a</th>\n",
       "      <td>Cranes</td>\n",
       "      <td>3.5</td>\n",
       "    </tr>\n",
       "    <tr>\n",
       "      <th>b</th>\n",
       "      <td>Cranes</td>\n",
       "      <td>4.0</td>\n",
       "    </tr>\n",
       "    <tr>\n",
       "      <th>c</th>\n",
       "      <td>plovers</td>\n",
       "      <td>1.5</td>\n",
       "    </tr>\n",
       "    <tr>\n",
       "      <th>d</th>\n",
       "      <td>spoonbills</td>\n",
       "      <td>NaN</td>\n",
       "    </tr>\n",
       "    <tr>\n",
       "      <th>e</th>\n",
       "      <td>spoonbills</td>\n",
       "      <td>6.0</td>\n",
       "    </tr>\n",
       "    <tr>\n",
       "      <th>f</th>\n",
       "      <td>Cranes</td>\n",
       "      <td>3.0</td>\n",
       "    </tr>\n",
       "    <tr>\n",
       "      <th>g</th>\n",
       "      <td>plovers</td>\n",
       "      <td>5.5</td>\n",
       "    </tr>\n",
       "    <tr>\n",
       "      <th>h</th>\n",
       "      <td>Cranes</td>\n",
       "      <td>NaN</td>\n",
       "    </tr>\n",
       "    <tr>\n",
       "      <th>i</th>\n",
       "      <td>spoonbills</td>\n",
       "      <td>8.0</td>\n",
       "    </tr>\n",
       "    <tr>\n",
       "      <th>j</th>\n",
       "      <td>spoonbills</td>\n",
       "      <td>4.0</td>\n",
       "    </tr>\n",
       "  </tbody>\n",
       "</table>\n",
       "</div>"
      ],
      "text/plain": [
       "        birds  age\n",
       "a      Cranes  3.5\n",
       "b      Cranes  4.0\n",
       "c     plovers  1.5\n",
       "d  spoonbills  NaN\n",
       "e  spoonbills  6.0\n",
       "f      Cranes  3.0\n",
       "g     plovers  5.5\n",
       "h      Cranes  NaN\n",
       "i  spoonbills  8.0\n",
       "j  spoonbills  4.0"
      ]
     },
     "execution_count": 5,
     "metadata": {},
     "output_type": "execute_result"
    }
   ],
   "source": [
    "\n",
    "df[['birds','age']]"
   ]
  },
  {
   "cell_type": "code",
   "execution_count": 6,
   "metadata": {},
   "outputs": [
    {
     "data": {
      "text/html": [
       "<div>\n",
       "<style scoped>\n",
       "    .dataframe tbody tr th:only-of-type {\n",
       "        vertical-align: middle;\n",
       "    }\n",
       "\n",
       "    .dataframe tbody tr th {\n",
       "        vertical-align: top;\n",
       "    }\n",
       "\n",
       "    .dataframe thead th {\n",
       "        text-align: right;\n",
       "    }\n",
       "</style>\n",
       "<table border=\"1\" class=\"dataframe\">\n",
       "  <thead>\n",
       "    <tr style=\"text-align: right;\">\n",
       "      <th></th>\n",
       "      <th>birds</th>\n",
       "      <th>age</th>\n",
       "      <th>visits</th>\n",
       "    </tr>\n",
       "  </thead>\n",
       "  <tbody>\n",
       "    <tr>\n",
       "      <th>c</th>\n",
       "      <td>plovers</td>\n",
       "      <td>1.5</td>\n",
       "      <td>3</td>\n",
       "    </tr>\n",
       "    <tr>\n",
       "      <th>d</th>\n",
       "      <td>spoonbills</td>\n",
       "      <td>NaN</td>\n",
       "      <td>4</td>\n",
       "    </tr>\n",
       "    <tr>\n",
       "      <th>h</th>\n",
       "      <td>Cranes</td>\n",
       "      <td>NaN</td>\n",
       "      <td>2</td>\n",
       "    </tr>\n",
       "  </tbody>\n",
       "</table>\n",
       "</div>"
      ],
      "text/plain": [
       "        birds  age  visits\n",
       "c     plovers  1.5       3\n",
       "d  spoonbills  NaN       4\n",
       "h      Cranes  NaN       2"
      ]
     },
     "execution_count": 6,
     "metadata": {},
     "output_type": "execute_result"
    }
   ],
   "source": [
    "bird_age_visits_df = df[['birds','age','visits']]\n",
    "#print(bird_age_visits_df)\n",
    "bird_age_visits_df.iloc[['2','3','7']]"
   ]
  },
  {
   "cell_type": "code",
   "execution_count": 7,
   "metadata": {},
   "outputs": [
    {
     "name": "stdout",
     "output_type": "stream",
     "text": [
      "        birds  age  visits priority\n",
      "a      Cranes  3.5       2      yes\n",
      "c     plovers  1.5       3       no\n",
      "e  spoonbills  6.0       3       no\n",
      "g     plovers  5.5       2       no\n",
      "h      Cranes  NaN       2      yes\n",
      "i  spoonbills  8.0       3       no\n",
      "j  spoonbills  4.0       2       no\n"
     ]
    }
   ],
   "source": [
    "select_visits = df.loc[df.visits < 4]\n",
    "print(select_visits)"
   ]
  },
  {
   "cell_type": "code",
   "execution_count": 8,
   "metadata": {},
   "outputs": [
    {
     "data": {
      "text/html": [
       "<div>\n",
       "<style scoped>\n",
       "    .dataframe tbody tr th:only-of-type {\n",
       "        vertical-align: middle;\n",
       "    }\n",
       "\n",
       "    .dataframe tbody tr th {\n",
       "        vertical-align: top;\n",
       "    }\n",
       "\n",
       "    .dataframe thead th {\n",
       "        text-align: right;\n",
       "    }\n",
       "</style>\n",
       "<table border=\"1\" class=\"dataframe\">\n",
       "  <thead>\n",
       "    <tr style=\"text-align: right;\">\n",
       "      <th></th>\n",
       "      <th>birds</th>\n",
       "      <th>age</th>\n",
       "      <th>visits</th>\n",
       "      <th>priority</th>\n",
       "    </tr>\n",
       "  </thead>\n",
       "  <tbody>\n",
       "    <tr>\n",
       "      <th>a</th>\n",
       "      <td>Cranes</td>\n",
       "      <td>3.5</td>\n",
       "      <td>2</td>\n",
       "      <td>yes</td>\n",
       "    </tr>\n",
       "    <tr>\n",
       "      <th>f</th>\n",
       "      <td>Cranes</td>\n",
       "      <td>3.0</td>\n",
       "      <td>4</td>\n",
       "      <td>no</td>\n",
       "    </tr>\n",
       "  </tbody>\n",
       "</table>\n",
       "</div>"
      ],
      "text/plain": [
       "    birds  age  visits priority\n",
       "a  Cranes  3.5       2      yes\n",
       "f  Cranes  3.0       4       no"
      ]
     },
     "execution_count": 8,
     "metadata": {},
     "output_type": "execute_result"
    }
   ],
   "source": [
    "df.loc[(df.birds=='Cranes') & (df.age < 4)]"
   ]
  },
  {
   "cell_type": "code",
   "execution_count": 9,
   "metadata": {},
   "outputs": [
    {
     "data": {
      "text/html": [
       "<div>\n",
       "<style scoped>\n",
       "    .dataframe tbody tr th:only-of-type {\n",
       "        vertical-align: middle;\n",
       "    }\n",
       "\n",
       "    .dataframe tbody tr th {\n",
       "        vertical-align: top;\n",
       "    }\n",
       "\n",
       "    .dataframe thead th {\n",
       "        text-align: right;\n",
       "    }\n",
       "</style>\n",
       "<table border=\"1\" class=\"dataframe\">\n",
       "  <thead>\n",
       "    <tr style=\"text-align: right;\">\n",
       "      <th></th>\n",
       "      <th>birds</th>\n",
       "      <th>age</th>\n",
       "      <th>visits</th>\n",
       "      <th>priority</th>\n",
       "    </tr>\n",
       "  </thead>\n",
       "  <tbody>\n",
       "    <tr>\n",
       "      <th>a</th>\n",
       "      <td>Cranes</td>\n",
       "      <td>3.5</td>\n",
       "      <td>2</td>\n",
       "      <td>yes</td>\n",
       "    </tr>\n",
       "    <tr>\n",
       "      <th>b</th>\n",
       "      <td>Cranes</td>\n",
       "      <td>4.0</td>\n",
       "      <td>4</td>\n",
       "      <td>yes</td>\n",
       "    </tr>\n",
       "    <tr>\n",
       "      <th>f</th>\n",
       "      <td>Cranes</td>\n",
       "      <td>3.0</td>\n",
       "      <td>4</td>\n",
       "      <td>no</td>\n",
       "    </tr>\n",
       "    <tr>\n",
       "      <th>j</th>\n",
       "      <td>spoonbills</td>\n",
       "      <td>4.0</td>\n",
       "      <td>2</td>\n",
       "      <td>no</td>\n",
       "    </tr>\n",
       "  </tbody>\n",
       "</table>\n",
       "</div>"
      ],
      "text/plain": [
       "        birds  age  visits priority\n",
       "a      Cranes  3.5       2      yes\n",
       "b      Cranes  4.0       4      yes\n",
       "f      Cranes  3.0       4       no\n",
       "j  spoonbills  4.0       2       no"
      ]
     },
     "execution_count": 9,
     "metadata": {},
     "output_type": "execute_result"
    }
   ],
   "source": [
    "df.loc[(df.age >= 2) & (df.age <= 4)]"
   ]
  },
  {
   "cell_type": "code",
   "execution_count": 10,
   "metadata": {},
   "outputs": [
    {
     "name": "stdout",
     "output_type": "stream",
     "text": [
      "12\n"
     ]
    }
   ],
   "source": [
    "group_birds = df.groupby('birds')\n",
    "cranes = group_birds.get_group('Cranes')\n",
    "#print(cranes)\n",
    "print(cranes.visits.sum())"
   ]
  },
  {
   "cell_type": "code",
   "execution_count": 11,
   "metadata": {},
   "outputs": [
    {
     "name": "stdout",
     "output_type": "stream",
     "text": [
      "birds\n",
      "Cranes        3.5\n",
      "plovers       3.5\n",
      "spoonbills    6.0\n",
      "Name: age, dtype: float64\n"
     ]
    }
   ],
   "source": [
    "print(group_birds.age.mean())"
   ]
  },
  {
   "cell_type": "code",
   "execution_count": 12,
   "metadata": {},
   "outputs": [
    {
     "name": "stdout",
     "output_type": "stream",
     "text": [
      "New DF with row K \n",
      "\n",
      "            birds  age visits priority\n",
      "(a,)      Cranes  3.5      2      yes\n",
      "(b,)      Cranes    4      4      yes\n",
      "(c,)     plovers  1.5      3       no\n",
      "(d,)  spoonbills  NaN      4      yes\n",
      "(e,)  spoonbills    6      3       no\n",
      "(f,)      Cranes    3      4       no\n",
      "(g,)     plovers  5.5      2       no\n",
      "(h,)      Cranes  NaN      2      yes\n",
      "(i,)  spoonbills    8      3       no\n",
      "(j,)  spoonbills    4      2       no\n",
      "k        plovers  3.5      5      yes\n",
      "\n",
      " Without row K \n",
      "            birds  age visits priority\n",
      "(a,)      Cranes  3.5      2      yes\n",
      "(b,)      Cranes    4      4      yes\n",
      "(c,)     plovers  1.5      3       no\n",
      "(d,)  spoonbills  NaN      4      yes\n",
      "(e,)  spoonbills    6      3       no\n",
      "(f,)      Cranes    3      4       no\n",
      "(g,)     plovers  5.5      2       no\n",
      "(h,)      Cranes  NaN      2      yes\n",
      "(i,)  spoonbills    8      3       no\n",
      "(j,)  spoonbills    4      2       no\n"
     ]
    }
   ],
   "source": [
    "\n",
    "df.loc['k']= ['plovers','3.5','5','yes']\n",
    "print(\"New DF with row K \\n\\n\",df)\n",
    "df.drop('k',inplace = True)\n",
    "print(\"\\n Without row K \\n\",df)"
   ]
  },
  {
   "cell_type": "code",
   "execution_count": 13,
   "metadata": {},
   "outputs": [
    {
     "name": "stdout",
     "output_type": "stream",
     "text": [
      "No of Cranes =  4\n",
      "No of plovers =  2\n",
      "No of spoonbills =  4\n"
     ]
    }
   ],
   "source": [
    "Cranes_obj = df.apply(lambda x: True if x['birds'] == 'Cranes' else False , axis =1)\n",
    "count1 = len(Cranes_obj[Cranes_obj == True].index)\n",
    "print(\"No of Cranes = \",count1)\n",
    "\n",
    "plovers_obj = df.apply(lambda x: True if x['birds'] == 'plovers' else False , axis =1)\n",
    "count2 = len(plovers_obj[plovers_obj == True].index)\n",
    "print(\"No of plovers = \",count2)\n",
    "\n",
    "spoonbills_obj = df.apply(lambda x: True if x['birds'] == 'spoonbills' else False , axis =1)\n",
    "count3 = len(spoonbills_obj[spoonbills_obj == True].index)\n",
    "print(\"No of spoonbills = \",count3)"
   ]
  },
  {
   "cell_type": "code",
   "execution_count": 14,
   "metadata": {},
   "outputs": [
    {
     "name": "stdout",
     "output_type": "stream",
     "text": [
      "Sort by Birds Column ::\n",
      "\n",
      "            birds  age visits priority\n",
      "(i,)  spoonbills    8      3       no\n",
      "(e,)  spoonbills    6      3       no\n",
      "(g,)     plovers  5.5      2       no\n",
      "(b,)      Cranes    4      4      yes\n",
      "(j,)  spoonbills    4      2       no\n",
      "(a,)      Cranes  3.5      2      yes\n",
      "(f,)      Cranes    3      4       no\n",
      "(c,)     plovers  1.5      3       no\n",
      "(d,)  spoonbills  NaN      4      yes\n",
      "(h,)      Cranes  NaN      2      yes\n",
      "\n",
      " Sort by Visits Column ::\n",
      "\n",
      "            birds  age visits priority\n",
      "(a,)      Cranes  3.5      2      yes\n",
      "(g,)     plovers  5.5      2       no\n",
      "(h,)      Cranes  NaN      2      yes\n",
      "(j,)  spoonbills    4      2       no\n",
      "(c,)     plovers  1.5      3       no\n",
      "(e,)  spoonbills    6      3       no\n",
      "(i,)  spoonbills    8      3       no\n",
      "(b,)      Cranes    4      4      yes\n",
      "(d,)  spoonbills  NaN      4      yes\n",
      "(f,)      Cranes    3      4       no\n"
     ]
    }
   ],
   "source": [
    "sort_by_birds = df.sort_values(\"age\",ascending = False )\n",
    "print(\"Sort by Birds Column ::\\n\\n\", sort_by_birds)\n",
    "sort_by_visits = df.sort_values(\"visits\")\n",
    "print(\"\\n Sort by Visits Column ::\\n\\n\",sort_by_visits)"
   ]
  },
  {
   "cell_type": "code",
   "execution_count": 15,
   "metadata": {},
   "outputs": [
    {
     "data": {
      "text/html": [
       "<div>\n",
       "<style scoped>\n",
       "    .dataframe tbody tr th:only-of-type {\n",
       "        vertical-align: middle;\n",
       "    }\n",
       "\n",
       "    .dataframe tbody tr th {\n",
       "        vertical-align: top;\n",
       "    }\n",
       "\n",
       "    .dataframe thead th {\n",
       "        text-align: right;\n",
       "    }\n",
       "</style>\n",
       "<table border=\"1\" class=\"dataframe\">\n",
       "  <thead>\n",
       "    <tr style=\"text-align: right;\">\n",
       "      <th></th>\n",
       "      <th>birds</th>\n",
       "      <th>age</th>\n",
       "      <th>visits</th>\n",
       "      <th>priority</th>\n",
       "    </tr>\n",
       "  </thead>\n",
       "  <tbody>\n",
       "    <tr>\n",
       "      <th>(a,)</th>\n",
       "      <td>Cranes</td>\n",
       "      <td>3.5</td>\n",
       "      <td>2</td>\n",
       "      <td>1</td>\n",
       "    </tr>\n",
       "    <tr>\n",
       "      <th>(b,)</th>\n",
       "      <td>Cranes</td>\n",
       "      <td>4.0</td>\n",
       "      <td>4</td>\n",
       "      <td>1</td>\n",
       "    </tr>\n",
       "    <tr>\n",
       "      <th>(c,)</th>\n",
       "      <td>plovers</td>\n",
       "      <td>1.5</td>\n",
       "      <td>3</td>\n",
       "      <td>0</td>\n",
       "    </tr>\n",
       "    <tr>\n",
       "      <th>(d,)</th>\n",
       "      <td>spoonbills</td>\n",
       "      <td>NaN</td>\n",
       "      <td>4</td>\n",
       "      <td>1</td>\n",
       "    </tr>\n",
       "    <tr>\n",
       "      <th>(e,)</th>\n",
       "      <td>spoonbills</td>\n",
       "      <td>6.0</td>\n",
       "      <td>3</td>\n",
       "      <td>0</td>\n",
       "    </tr>\n",
       "    <tr>\n",
       "      <th>(f,)</th>\n",
       "      <td>Cranes</td>\n",
       "      <td>3.0</td>\n",
       "      <td>4</td>\n",
       "      <td>0</td>\n",
       "    </tr>\n",
       "    <tr>\n",
       "      <th>(g,)</th>\n",
       "      <td>plovers</td>\n",
       "      <td>5.5</td>\n",
       "      <td>2</td>\n",
       "      <td>0</td>\n",
       "    </tr>\n",
       "    <tr>\n",
       "      <th>(h,)</th>\n",
       "      <td>Cranes</td>\n",
       "      <td>NaN</td>\n",
       "      <td>2</td>\n",
       "      <td>1</td>\n",
       "    </tr>\n",
       "    <tr>\n",
       "      <th>(i,)</th>\n",
       "      <td>spoonbills</td>\n",
       "      <td>8.0</td>\n",
       "      <td>3</td>\n",
       "      <td>0</td>\n",
       "    </tr>\n",
       "    <tr>\n",
       "      <th>(j,)</th>\n",
       "      <td>spoonbills</td>\n",
       "      <td>4.0</td>\n",
       "      <td>2</td>\n",
       "      <td>0</td>\n",
       "    </tr>\n",
       "  </tbody>\n",
       "</table>\n",
       "</div>"
      ],
      "text/plain": [
       "           birds  age  visits  priority\n",
       "(a,)      Cranes  3.5       2         1\n",
       "(b,)      Cranes  4.0       4         1\n",
       "(c,)     plovers  1.5       3         0\n",
       "(d,)  spoonbills  NaN       4         1\n",
       "(e,)  spoonbills  6.0       3         0\n",
       "(f,)      Cranes  3.0       4         0\n",
       "(g,)     plovers  5.5       2         0\n",
       "(h,)      Cranes  NaN       2         1\n",
       "(i,)  spoonbills  8.0       3         0\n",
       "(j,)  spoonbills  4.0       2         0"
      ]
     },
     "execution_count": 15,
     "metadata": {},
     "output_type": "execute_result"
    }
   ],
   "source": [
    "df.replace(to_replace = [\"yes\",\"no\"], value = [1,0])"
   ]
  },
  {
   "cell_type": "code",
   "execution_count": 16,
   "metadata": {},
   "outputs": [
    {
     "data": {
      "text/html": [
       "<div>\n",
       "<style scoped>\n",
       "    .dataframe tbody tr th:only-of-type {\n",
       "        vertical-align: middle;\n",
       "    }\n",
       "\n",
       "    .dataframe tbody tr th {\n",
       "        vertical-align: top;\n",
       "    }\n",
       "\n",
       "    .dataframe thead th {\n",
       "        text-align: right;\n",
       "    }\n",
       "</style>\n",
       "<table border=\"1\" class=\"dataframe\">\n",
       "  <thead>\n",
       "    <tr style=\"text-align: right;\">\n",
       "      <th></th>\n",
       "      <th>birds</th>\n",
       "      <th>age</th>\n",
       "      <th>visits</th>\n",
       "      <th>priority</th>\n",
       "    </tr>\n",
       "  </thead>\n",
       "  <tbody>\n",
       "    <tr>\n",
       "      <th>(a,)</th>\n",
       "      <td>trumpeters</td>\n",
       "      <td>3.5</td>\n",
       "      <td>2</td>\n",
       "      <td>yes</td>\n",
       "    </tr>\n",
       "    <tr>\n",
       "      <th>(b,)</th>\n",
       "      <td>trumpeters</td>\n",
       "      <td>4.0</td>\n",
       "      <td>4</td>\n",
       "      <td>yes</td>\n",
       "    </tr>\n",
       "    <tr>\n",
       "      <th>(c,)</th>\n",
       "      <td>plovers</td>\n",
       "      <td>1.5</td>\n",
       "      <td>3</td>\n",
       "      <td>no</td>\n",
       "    </tr>\n",
       "    <tr>\n",
       "      <th>(d,)</th>\n",
       "      <td>spoonbills</td>\n",
       "      <td>NaN</td>\n",
       "      <td>4</td>\n",
       "      <td>yes</td>\n",
       "    </tr>\n",
       "    <tr>\n",
       "      <th>(e,)</th>\n",
       "      <td>spoonbills</td>\n",
       "      <td>6.0</td>\n",
       "      <td>3</td>\n",
       "      <td>no</td>\n",
       "    </tr>\n",
       "    <tr>\n",
       "      <th>(f,)</th>\n",
       "      <td>trumpeters</td>\n",
       "      <td>3.0</td>\n",
       "      <td>4</td>\n",
       "      <td>no</td>\n",
       "    </tr>\n",
       "    <tr>\n",
       "      <th>(g,)</th>\n",
       "      <td>plovers</td>\n",
       "      <td>5.5</td>\n",
       "      <td>2</td>\n",
       "      <td>no</td>\n",
       "    </tr>\n",
       "    <tr>\n",
       "      <th>(h,)</th>\n",
       "      <td>trumpeters</td>\n",
       "      <td>NaN</td>\n",
       "      <td>2</td>\n",
       "      <td>yes</td>\n",
       "    </tr>\n",
       "    <tr>\n",
       "      <th>(i,)</th>\n",
       "      <td>spoonbills</td>\n",
       "      <td>8.0</td>\n",
       "      <td>3</td>\n",
       "      <td>no</td>\n",
       "    </tr>\n",
       "    <tr>\n",
       "      <th>(j,)</th>\n",
       "      <td>spoonbills</td>\n",
       "      <td>4.0</td>\n",
       "      <td>2</td>\n",
       "      <td>no</td>\n",
       "    </tr>\n",
       "  </tbody>\n",
       "</table>\n",
       "</div>"
      ],
      "text/plain": [
       "           birds  age  visits priority\n",
       "(a,)  trumpeters  3.5       2      yes\n",
       "(b,)  trumpeters  4.0       4      yes\n",
       "(c,)     plovers  1.5       3       no\n",
       "(d,)  spoonbills  NaN       4      yes\n",
       "(e,)  spoonbills  6.0       3       no\n",
       "(f,)  trumpeters  3.0       4       no\n",
       "(g,)     plovers  5.5       2       no\n",
       "(h,)  trumpeters  NaN       2      yes\n",
       "(i,)  spoonbills  8.0       3       no\n",
       "(j,)  spoonbills  4.0       2       no"
      ]
     },
     "execution_count": 16,
     "metadata": {},
     "output_type": "execute_result"
    }
   ],
   "source": [
    "df.replace(to_replace = \"Cranes\",value = 'trumpeters')"
   ]
  },
  {
   "cell_type": "code",
   "execution_count": null,
   "metadata": {},
   "outputs": [],
   "source": []
  }
 ],
 "metadata": {
  "kernelspec": {
   "display_name": "Python 3",
   "language": "python",
   "name": "python3"
  },
  "language_info": {
   "codemirror_mode": {
    "name": "ipython",
    "version": 3
   },
   "file_extension": ".py",
   "mimetype": "text/x-python",
   "name": "python",
   "nbconvert_exporter": "python",
   "pygments_lexer": "ipython3",
   "version": "3.7.1"
  }
 },
 "nbformat": 4,
 "nbformat_minor": 2
}
