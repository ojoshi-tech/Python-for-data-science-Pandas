{
 "cells": [
  {
   "cell_type": "code",
   "execution_count": 1,
   "metadata": {},
   "outputs": [
    {
     "name": "stdout",
     "output_type": "stream",
     "text": [
      "*Eg.1 Multiplication Table*\n",
      "Enter the number whose multiplication table you want::2\n",
      "Multiplication Table for 2 is:\n",
      "2\n",
      "4\n",
      "6\n",
      "8\n",
      "10\n",
      "12\n",
      "14\n",
      "16\n",
      "18\n",
      "20\n"
     ]
    }
   ],
   "source": [
    "print(\"*Eg.1 Multiplication Table*\")\n",
    "num=int(input (\"Enter the number whose multiplication table you want::\"))\n",
    "#print(num)\n",
    "print(\"Multiplication Table for {0} is:\".format(num))\n",
    "lst1 = list(range(1,11))\n",
    "#print(lst1)\n",
    "lst2=list(map(lambda x: x*num,lst1))\n",
    "for ele in lst2:\n",
    "    print(ele)"
   ]
  },
  {
   "cell_type": "code",
   "execution_count": 2,
   "metadata": {},
   "outputs": [
    {
     "name": "stdout",
     "output_type": "stream",
     "text": [
      "*Eg.3 Prime factors*\n",
      "Enter a number whose prime factors you want to find:-36\n",
      "2\n",
      "2\n",
      "3\n",
      "3\n"
     ]
    }
   ],
   "source": [
    "import math as m\n",
    "def prime_factor (num):\n",
    "    \n",
    "    while(num % 2== 0):\n",
    "        \n",
    "        print(2)\n",
    "        num= num/2\n",
    "    \n",
    "    for i in range(3,int(m.sqrt(num))+1,2):\n",
    "        \n",
    "        while(num%i==0):\n",
    "            print(i)\n",
    "            num=num/i\n",
    "            \n",
    "    if num>2:\n",
    "        print (int(num))\n",
    "print(\"*Eg.3 Prime factors*\")\n",
    "num = int(input(\"Enter a number whose prime factors you want to find:-\"))\n",
    "prime_factor(num)\n",
    "                "
   ]
  },
  {
   "cell_type": "code",
   "execution_count": 3,
   "metadata": {},
   "outputs": [
    {
     "name": "stdout",
     "output_type": "stream",
     "text": [
      "*Eg.5*\n",
      "Enter the number which you want to convert into binary ::  25\n",
      "11001"
     ]
    }
   ],
   "source": [
    "def convert (num):\n",
    "    \n",
    "    lst = [0]*num\n",
    "    #print(len(lst))\n",
    "    i= 0\n",
    "    \n",
    "    while(num>0):\n",
    "        \n",
    "        lst[i] = num % 2\n",
    "        num = int(num/2)\n",
    "        i +=1\n",
    "    \n",
    "    for j in range(i - 1, -1, -1): \n",
    "        print(lst[j], end = \"\");\n",
    "\n",
    "print(\"*Eg.5*\")\n",
    "num = int(input(\"Enter the number which you want to convert into binary ::  \"))\n",
    "convert(num)\n"
   ]
  },
  {
   "cell_type": "code",
   "execution_count": 4,
   "metadata": {},
   "outputs": [
    {
     "name": "stdout",
     "output_type": "stream",
     "text": [
      "*Eg.6 Armstrong Numbers*\n",
      "Enter the number which you want to check whether it is Armstrong or not :: 365\n",
      "The sum of the cubes of individual digits of number is = 368.\n",
      "Hence the given number 365 is not a ArmStrong Number.\n"
     ]
    }
   ],
   "source": [
    "def cubesum (num):\n",
    "    lst = list(map(int,str(num)))   #int to list conversion\n",
    "    cube = list(map(lambda x: x**3,lst))\n",
    "    #print(cube)\n",
    "    #print(len(cube))\n",
    "    sum = 0\n",
    "    for i in range(len(cube)):\n",
    "        sum +=cube[i]\n",
    "    \n",
    "    print(\"The sum of the cubes of individual digits of number is = {}.\".format(sum))\n",
    "    isArmstrong(num,sum)\n",
    "    \n",
    "    \n",
    "\n",
    "def isArmstrong(x,y):\n",
    "    if x == y:\n",
    "        PrintArmstrong(x)\n",
    "        \n",
    "    else:\n",
    "        print(\"Hence the given number {} is not a ArmStrong Number.\".format(x))\n",
    "        \n",
    "        \n",
    "def PrintArmstrong(j):\n",
    "    print(\"Hence the given number {} is a ArmStrong Number.\".format(num))\n",
    "    \n",
    "print(\"*Eg.6 Armstrong Numbers*\") \n",
    "num = int(input(\"Enter the number which you want to check whether it is Armstrong or not :: \"))\n",
    "cubesum (num)"
   ]
  },
  {
   "cell_type": "code",
   "execution_count": 5,
   "metadata": {},
   "outputs": [
    {
     "name": "stdout",
     "output_type": "stream",
     "text": [
      "*Eg.7*\n",
      "Enter the number whose product of digits you want ::28\n",
      "The product of digits is :: 16\n"
     ]
    }
   ],
   "source": [
    "from functools import reduce\n",
    "\n",
    "def prodDigits(num):\n",
    "    \n",
    "    lst = [int(x) for x in str(num)]\n",
    "    #print(lst)\n",
    "    product = reduce(lambda a,b : a*b ,lst)\n",
    "    #print(type(product))\n",
    "    return(product)\n",
    "\n",
    "print(\"*Eg.7*\")\n",
    "num = input(\"Enter the number whose product of digits you want ::\")\n",
    "#print(num)\n",
    "#print(type(num))\n",
    "print(\"The product of digits is ::\",prodDigits(num))"
   ]
  },
  {
   "cell_type": "code",
   "execution_count": 6,
   "metadata": {},
   "outputs": [
    {
     "name": "stdout",
     "output_type": "stream",
     "text": [
      "Enter the number whose multiplicative digital root and \n",
      "multiplicative persistence you want to calculate :: 365\n",
      "Eg.8\n",
      "MDR = 0 , MPersistence = 2\n"
     ]
    }
   ],
   "source": [
    "def MDR(y):\n",
    "    a = prodDigits(y)\n",
    "    MPersistence(a)\n",
    "\n",
    "\n",
    "def MPersistence(num):\n",
    "    global count  #We need to use global keyword in a function if we want to do assignments / to change them (variables)\n",
    "    x = str(num)\n",
    "    if len(x) == 1:\n",
    "        print(\"MDR = {} , MPersistence = {}\".format(x,count))\n",
    "    \n",
    "    else:\n",
    "        count +=1\n",
    "        MDR(x)\n",
    "\n",
    "num = int(input('''Enter the number whose multiplicative digital root and \n",
    "multiplicative persistence you want to calculate :: '''))\n",
    "\n",
    "print(\"Eg.8\")\n",
    "count=0\n",
    "MPersistence(num)"
   ]
  },
  {
   "cell_type": "code",
   "execution_count": 7,
   "metadata": {},
   "outputs": [
    {
     "name": "stdout",
     "output_type": "stream",
     "text": [
      "Eg.9\n",
      "Enter the number whose sum of proper divisors you want to calculate :: 225\n",
      "Sum =  178\n"
     ]
    }
   ],
   "source": [
    "def sumPdivisors(num):\n",
    "    lst = []\n",
    "     \n",
    "    for i in range(1,(num-1)):\n",
    "        \n",
    "        if num % i == 0:\n",
    "            lst.append(i)\n",
    "    #print(\"List of divisors are ::\",lst)     \n",
    "    x = sum(lst)\n",
    "    \n",
    "    return x\n",
    " \n",
    "print(\"Eg.9\")\n",
    "\n",
    "num = int(input('''Enter the number whose sum of proper divisors you want to calculate :: '''))\n",
    "print(\"Sum = \",sumPdivisors(num))"
   ]
  },
  {
   "cell_type": "code",
   "execution_count": 8,
   "metadata": {},
   "outputs": [
    {
     "name": "stdout",
     "output_type": "stream",
     "text": [
      "Eg.10\n",
      "Enter two value: 25 30\n",
      "Perfect numbers in a given range are :: [28]\n"
     ]
    }
   ],
   "source": [
    "def is_perfect(i):\n",
    "    sum = sumPdivisors(i)\n",
    "    #print(sum)\n",
    "    if sum == i:\n",
    "        lst1.append(i)\n",
    "        \n",
    "print(\"Eg.10\")        \n",
    "lst1 = []\n",
    "num1,num2 = [int(x) for x in input(\"Enter two value: \").split()] \n",
    "for i in range(num1,(num2+1)):\n",
    "    is_perfect(i)\n",
    "print(\"Perfect numbers in a given range are ::\",lst1)"
   ]
  },
  {
   "cell_type": "code",
   "execution_count": 10,
   "metadata": {},
   "outputs": [
    {
     "name": "stdout",
     "output_type": "stream",
     "text": [
      "Enter two value: 201 300\n",
      "[504, 504]\n"
     ]
    }
   ],
   "source": [
    "lst = []\n",
    "num1,num2 = [int(x) for x in input(\"Enter two value: \").split()] \n",
    "\n",
    "for i in range (num1,(num2+1)):\n",
    "    \n",
    "    for j in range((num1+1),(num2+1)):\n",
    "        \n",
    "        sum1 = sumPdivisors(i)\n",
    "        sum2 = sumPdivisors(j)\n",
    "        if sum1 == j and sum2 == i:\n",
    "            lst.append(i + j)\n",
    "\n",
    "print(lst)\n",
    "            "
   ]
  },
  {
   "cell_type": "code",
   "execution_count": 18,
   "metadata": {},
   "outputs": [
    {
     "name": "stdout",
     "output_type": "stream",
     "text": [
      "Eg.12\n",
      "Enter the list of elements ::1 2 3 4 5 6 7 8 9 10\n",
      "[1, 3, 5, 7, 9]\n"
     ]
    }
   ],
   "source": [
    "def filter(n):\n",
    "    \n",
    "    if n % 2 == 0:\n",
    "        return False\n",
    "    else:\n",
    "        return True\n",
    "print(\"Eg.12\")\n",
    "lst = [int (i) for i in input(\"Enter the list of elements ::\").split()]\n",
    "lst2 = []\n",
    "for ele in lst:\n",
    "    if filter(ele):\n",
    "        lst2.append(ele)\n",
    "print(lst2)   "
   ]
  },
  {
   "cell_type": "code",
   "execution_count": 20,
   "metadata": {},
   "outputs": [
    {
     "name": "stdout",
     "output_type": "stream",
     "text": [
      "Enter the list of elements ::1 2 3 4 5 6 7 8 9 10\n",
      "[1, 8, 27, 64, 125, 216, 343, 512, 729, 1000]\n"
     ]
    }
   ],
   "source": [
    "print(\"Eg.13\")\n",
    "def cubes (n):\n",
    "    return n**3\n",
    "\n",
    "lst = [int (i) for i in input(\"Enter the list of elements ::\").split()]\n",
    "new_lst = list(map(cubes,lst))\n",
    "print(new_lst)"
   ]
  },
  {
   "cell_type": "code",
   "execution_count": 1,
   "metadata": {},
   "outputs": [
    {
     "name": "stdout",
     "output_type": "stream",
     "text": [
      "Eg.14\n",
      "Enter the list of elements ::1 2 3 4 5 6 7 8 9 10\n",
      "[8, 64, 216, 512, 1000]\n"
     ]
    }
   ],
   "source": [
    "print(\"Eg.14\")\n",
    "\n",
    "def find_even(num):\n",
    "    if num % 2 == 0:\n",
    "        return num\n",
    "    \n",
    "def cubes (n):\n",
    "    return n**3\n",
    "\n",
    "lst1 = [int (i) for i in input(\"Enter the list of elements ::\").split()]\n",
    "even = list(filter(find_even,lst1))\n",
    "new_lst = list(map(cubes,even))\n",
    "print(new_lst)"
   ]
  },
  {
   "cell_type": "code",
   "execution_count": null,
   "metadata": {},
   "outputs": [],
   "source": []
  }
 ],
 "metadata": {
  "kernelspec": {
   "display_name": "Python 3",
   "language": "python",
   "name": "python3"
  },
  "language_info": {
   "codemirror_mode": {
    "name": "ipython",
    "version": 3
   },
   "file_extension": ".py",
   "mimetype": "text/x-python",
   "name": "python",
   "nbconvert_exporter": "python",
   "pygments_lexer": "ipython3",
   "version": "3.7.1"
  }
 },
 "nbformat": 4,
 "nbformat_minor": 2
}
